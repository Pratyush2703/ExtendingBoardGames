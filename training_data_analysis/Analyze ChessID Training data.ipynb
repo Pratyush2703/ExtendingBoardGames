{
 "cells": [
  {
   "cell_type": "code",
   "execution_count": 14,
   "metadata": {
    "collapsed": true
   },
   "outputs": [],
   "source": [
    "import os\n",
    "import matplotlib.pyplot as plt\n",
    "import seaborn as sns\n",
    "import pandas as pd\n",
    "\n",
    "%matplotlib inline"
   ]
  },
  {
   "cell_type": "code",
   "execution_count": 2,
   "metadata": {
    "collapsed": true
   },
   "outputs": [],
   "source": [
    "location_of_train_data = \"H:\\\\AR-ExtendingOnlineGames\\\\data\\\\chess_pieces_data\\\\Chess ID Public Data\\\\output_train\"\n",
    "location_of_test_data = \"H:\\\\AR-ExtendingOnlineGames\\\\data\\\\chess_pieces_data\\\\Chess ID Public Data\\\\output_test\""
   ]
  },
  {
   "cell_type": "code",
   "execution_count": 3,
   "metadata": {
    "collapsed": true
   },
   "outputs": [],
   "source": [
    "class_names_folder_mappings = {\"white_bishop\": [\"wb\"], \"white_king\": [\"wk\"], \"white_knight\":[\"wn\"], \"white_pawn\":[\"wp\"], \"white_queen\":[\"wq\"], \"white_rook\":[\"wr\"], \"black_bishop\": [\"bb\"], \"black_king\": [\"bk\"], \"black_knight\":[\"bn\"], \"black_pawn\":[\"bp\"], \"black_queen\":[\"bq\"], \"black_rook\":[\"br\"], \"empty\":[\"empty\"]}"
   ]
  },
  {
   "cell_type": "code",
   "execution_count": 8,
   "metadata": {
    "collapsed": true
   },
   "outputs": [],
   "source": [
    "base_location = location_of_train_data\n",
    "\n",
    "images_per_class = {\"class_name\": [], \"num_images\": []}\n",
    "for class_name in class_names_folder_mappings:\n",
    "    num_images_for_current_class = 0\n",
    "    for folder_name in class_names_folder_mappings[class_name]:\n",
    "        images_location_for_class = os.path.join(base_location, folder_name)\n",
    "        num_images = len([f for f in os.listdir(images_location_for_class) if f.endswith(\".jpg\")])\n",
    "        num_images_for_current_class += num_images\n",
    "    \n",
    "    images_per_class[\"class_name\"].append(class_name)\n",
    "    images_per_class[\"num_images\"].append(num_images_for_current_class)"
   ]
  },
  {
   "cell_type": "code",
   "execution_count": 21,
   "metadata": {
    "collapsed": true
   },
   "outputs": [],
   "source": [
    "images_per_class_dict = {}\n",
    "for class_name in class_names_folder_mappings:\n",
    "    num_images_for_current_class = 0\n",
    "    for folder_name in class_names_folder_mappings[class_name]:\n",
    "        images_location_for_class = os.path.join(base_location, folder_name)\n",
    "        num_images = len([f for f in os.listdir(images_location_for_class) if f.endswith(\".jpg\")])\n",
    "        num_images_for_current_class += num_images\n",
    "    \n",
    "    images_per_class_dict[class_name] = num_images_for_current_class"
   ]
  },
  {
   "cell_type": "code",
   "execution_count": 10,
   "metadata": {},
   "outputs": [
    {
     "data": {
      "text/plain": [
       "{'class_name': ['white_bishop',\n",
       "  'white_king',\n",
       "  'white_knight',\n",
       "  'white_pawn',\n",
       "  'white_queen',\n",
       "  'white_rook',\n",
       "  'black_bishop',\n",
       "  'black_king',\n",
       "  'black_knight',\n",
       "  'black_pawn',\n",
       "  'black_queen',\n",
       "  'black_rook',\n",
       "  'empty'],\n",
       " 'num_images': [517,\n",
       "  279,\n",
       "  512,\n",
       "  1484,\n",
       "  371,\n",
       "  312,\n",
       "  532,\n",
       "  279,\n",
       "  502,\n",
       "  1471,\n",
       "  369,\n",
       "  271,\n",
       "  3461]}"
      ]
     },
     "execution_count": 10,
     "metadata": {},
     "output_type": "execute_result"
    }
   ],
   "source": [
    "images_per_class"
   ]
  },
  {
   "cell_type": "code",
   "execution_count": 13,
   "metadata": {},
   "outputs": [
    {
     "data": {
      "text/html": [
       "<div>\n",
       "<style scoped>\n",
       "    .dataframe tbody tr th:only-of-type {\n",
       "        vertical-align: middle;\n",
       "    }\n",
       "\n",
       "    .dataframe tbody tr th {\n",
       "        vertical-align: top;\n",
       "    }\n",
       "\n",
       "    .dataframe thead th {\n",
       "        text-align: right;\n",
       "    }\n",
       "</style>\n",
       "<table border=\"1\" class=\"dataframe\">\n",
       "  <thead>\n",
       "    <tr style=\"text-align: right;\">\n",
       "      <th></th>\n",
       "      <th>class_name</th>\n",
       "      <th>num_images</th>\n",
       "    </tr>\n",
       "  </thead>\n",
       "  <tbody>\n",
       "    <tr>\n",
       "      <th>0</th>\n",
       "      <td>white_bishop</td>\n",
       "      <td>517</td>\n",
       "    </tr>\n",
       "    <tr>\n",
       "      <th>1</th>\n",
       "      <td>white_king</td>\n",
       "      <td>279</td>\n",
       "    </tr>\n",
       "    <tr>\n",
       "      <th>2</th>\n",
       "      <td>white_knight</td>\n",
       "      <td>512</td>\n",
       "    </tr>\n",
       "    <tr>\n",
       "      <th>3</th>\n",
       "      <td>white_pawn</td>\n",
       "      <td>1484</td>\n",
       "    </tr>\n",
       "    <tr>\n",
       "      <th>4</th>\n",
       "      <td>white_queen</td>\n",
       "      <td>371</td>\n",
       "    </tr>\n",
       "    <tr>\n",
       "      <th>5</th>\n",
       "      <td>white_rook</td>\n",
       "      <td>312</td>\n",
       "    </tr>\n",
       "    <tr>\n",
       "      <th>6</th>\n",
       "      <td>black_bishop</td>\n",
       "      <td>532</td>\n",
       "    </tr>\n",
       "    <tr>\n",
       "      <th>7</th>\n",
       "      <td>black_king</td>\n",
       "      <td>279</td>\n",
       "    </tr>\n",
       "    <tr>\n",
       "      <th>8</th>\n",
       "      <td>black_knight</td>\n",
       "      <td>502</td>\n",
       "    </tr>\n",
       "    <tr>\n",
       "      <th>9</th>\n",
       "      <td>black_pawn</td>\n",
       "      <td>1471</td>\n",
       "    </tr>\n",
       "    <tr>\n",
       "      <th>10</th>\n",
       "      <td>black_queen</td>\n",
       "      <td>369</td>\n",
       "    </tr>\n",
       "    <tr>\n",
       "      <th>11</th>\n",
       "      <td>black_rook</td>\n",
       "      <td>271</td>\n",
       "    </tr>\n",
       "    <tr>\n",
       "      <th>12</th>\n",
       "      <td>empty</td>\n",
       "      <td>3461</td>\n",
       "    </tr>\n",
       "  </tbody>\n",
       "</table>\n",
       "</div>"
      ],
      "text/plain": [
       "      class_name  num_images\n",
       "0   white_bishop         517\n",
       "1     white_king         279\n",
       "2   white_knight         512\n",
       "3     white_pawn        1484\n",
       "4    white_queen         371\n",
       "5     white_rook         312\n",
       "6   black_bishop         532\n",
       "7     black_king         279\n",
       "8   black_knight         502\n",
       "9     black_pawn        1471\n",
       "10   black_queen         369\n",
       "11    black_rook         271\n",
       "12         empty        3461"
      ]
     },
     "execution_count": 13,
     "metadata": {},
     "output_type": "execute_result"
    }
   ],
   "source": [
    "images_per_class_df = pd.DataFrame.from_dict(images_per_class)\n",
    "\n",
    "images_per_class_df"
   ]
  },
  {
   "cell_type": "code",
   "execution_count": 22,
   "metadata": {},
   "outputs": [
    {
     "data": {
      "text/plain": [
       "{'black_bishop': 532,\n",
       " 'black_king': 279,\n",
       " 'black_knight': 502,\n",
       " 'black_pawn': 1471,\n",
       " 'black_queen': 369,\n",
       " 'black_rook': 271,\n",
       " 'empty': 3461,\n",
       " 'white_bishop': 517,\n",
       " 'white_king': 279,\n",
       " 'white_knight': 512,\n",
       " 'white_pawn': 1484,\n",
       " 'white_queen': 371,\n",
       " 'white_rook': 312}"
      ]
     },
     "execution_count": 22,
     "metadata": {},
     "output_type": "execute_result"
    }
   ],
   "source": [
    "images_per_class_dict"
   ]
  },
  {
   "cell_type": "code",
   "execution_count": 28,
   "metadata": {},
   "outputs": [
    {
     "data": {
      "text/plain": [
       "<Container object of 13 artists>"
      ]
     },
     "execution_count": 28,
     "metadata": {},
     "output_type": "execute_result"
    },
    {
     "data": {
      "image/png": "[encoded data removed]",
      "text/plain": [
       "<matplotlib.figure.Figure at 0x1f873090048>"
      ]
     },
     "metadata": {},
     "output_type": "display_data"
    }
   ],
   "source": [
    "plt.rcParams[\"figure.figsize\"] = (20, 10)\n",
    "plt.bar(list(images_per_class_dict.keys()), images_per_class_dict.values(), color='g')"
   ]
  },
  {
   "cell_type": "code",
   "execution_count": null,
   "metadata": {
    "collapsed": true
   },
   "outputs": [],
   "source": []
  }
 ],
 "metadata": {
  "kernelspec": {
   "display_name": "Python 3",
   "language": "python",
   "name": "python3"
  },
  "language_info": {
   "codemirror_mode": {
    "name": "ipython",
    "version": 3
   },
   "file_extension": ".py",
   "mimetype": "text/x-python",
   "name": "python",
   "nbconvert_exporter": "python",
   "pygments_lexer": "ipython3",
   "version": "3.6.3"
  }
 },
 "nbformat": 4,
 "nbformat_minor": 2
}
