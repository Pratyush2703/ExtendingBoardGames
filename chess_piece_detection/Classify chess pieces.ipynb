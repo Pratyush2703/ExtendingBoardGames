{
  "nbformat": 4,
  "nbformat_minor": 0,
  "metadata": {
    "colab": {
      "name": "Classify chess pieces.ipynb",
      "version": "0.3.2",
      "provenance": [],
      "collapsed_sections": []
    },
    "kernelspec": {
      "name": "python3",
      "display_name": "Python 3"
    }
  },
  "cells": [
    {
      "metadata": {
        "id": "J9Je0gsCod31",
        "colab_type": "code",
        "colab": {
          "base_uri": "https://localhost:8080/",
          "height": 122
        },
        "outputId": "8833dd6e-a3e5-4069-d317-ef5357e87427"
      },
      "cell_type": "code",
      "source": [
        "## Below code required to access Google drive resources\n",
        "# Load the Drive helper and mount\n",
        "from google.colab import drive\n",
        "drive.mount('/content/drive')"
      ],
      "execution_count": 1,
      "outputs": [
        {
          "output_type": "stream",
          "text": [
            "Go to this URL in a browser: https://accounts.google.com/o/oauth2/auth?client_id=947318989803-6bn6qk8qdgf4n4g3pfee6491hc0brc4i.apps.googleusercontent.com&redirect_uri=urn%3Aietf%3Awg%3Aoauth%3A2.0%3Aoob&scope=email%20https%3A%2F%2Fwww.googleapis.com%2Fauth%2Fdocs.test%20https%3A%2F%2Fwww.googleapis.com%2Fauth%2Fdrive%20https%3A%2F%2Fwww.googleapis.com%2Fauth%2Fdrive.photos.readonly%20https%3A%2F%2Fwww.googleapis.com%2Fauth%2Fpeopleapi.readonly&response_type=code\n",
            "\n",
            "Enter your authorization code:\n",
            "··········\n",
            "Mounted at /content/drive\n"
          ],
          "name": "stdout"
        }
      ]
    },
    {
      "metadata": {
        "id": "AOORH4OBo7eT",
        "colab_type": "code",
        "colab": {}
      },
      "cell_type": "code",
      "source": [
        "# Keras and TF imports\n",
        "from keras.applications.inception_v3 import InceptionV3\n",
        "from keras.preprocessing import image\n",
        "from keras.models import Model\n",
        "from keras.layers import Dense, GlobalAveragePooling2D\n",
        "from keras.callbacks import EarlyStopping, ModelCheckpoint\n",
        "from keras import backend as K"
      ],
      "execution_count": 0,
      "outputs": []
    },
    {
      "metadata": {
        "id": "6oYjHJlHpRk1",
        "colab_type": "code",
        "colab": {}
      },
      "cell_type": "code",
      "source": [
        "# Scikit-learn and Numpy imports\n",
        "from sklearn.model_selection import train_test_split\n",
        "from sklearn.metrics import confusion_matrix\n",
        "import matplotlib.pyplot as plt\n",
        "import numpy as np\n",
        "import os\n",
        "\n",
        "%matplotlib inline"
      ],
      "execution_count": 0,
      "outputs": []
    },
    {
      "metadata": {
        "id": "VzI16CRFpmG_",
        "colab_type": "code",
        "colab": {}
      },
      "cell_type": "code",
      "source": [
        "# set the location of the training and test images (change as required)\n",
        "location_of_train_data = \"drive/My Drive/Extending board games online/chess_pieces_data/Chess ID Public Data/output_train\"\n",
        "location_of_test_data = \"drive/My Drive/Extending board games online/chess_pieces_data/Chess ID Public Data/output_test\""
      ],
      "execution_count": 0,
      "outputs": []
    },
    {
      "metadata": {
        "id": "bQvSOos5sFxt",
        "colab_type": "code",
        "colab": {}
      },
      "cell_type": "code",
      "source": [
        "class_names = [\"bishop\", \"king\", \"knight\", \"pawn\", \"queen\", \"rook\", \"empty\"]\n",
        "class_names_reverse_mappings = {\"bishop\": 0, \"king\": 1, \"knight\":2, \"pawn\":3, \"queen\":4, \"rook\":5, \"empty\":6}\n",
        "class_names_folder_mappings = {\"bishop\": [\"bb\", \"wb\"], \"king\": [\"bk\", \"wk\"], \"knight\":[\"bn\", \"wn\"], \"pawn\":[\"bp\", \"wp\"], \"queen\":[\"bq\", \"wq\"], \"rook\":[\"br\", \"wr\"], \"empty\":[\"empty\"]}"
      ],
      "execution_count": 0,
      "outputs": []
    },
    {
      "metadata": {
        "id": "Y60PmbgeqnfW",
        "colab_type": "code",
        "colab": {}
      },
      "cell_type": "code",
      "source": [
        "from keras.applications.inception_v3 import preprocess_input\n",
        "\n",
        "def get_required_data_with_labels_for_model(base_location, dimensions=(299, 299)):\n",
        "  X, y = [], []\n",
        "  for class_name in class_names_folder_mappings:\n",
        "    for folder_name in class_names_folder_mappings[class_name]:\n",
        "      complete_path = os.path.join(base_location, folder_name)\n",
        "      print(\"Reading the files from the location {0}\".format(complete_path))\n",
        "      \n",
        "      for image_file_name in os.listdir(complete_path):\n",
        "        \n",
        "        # check if the current file is an image file with jpg extension\n",
        "        if image_file_name.endswith(\".jpg\"):\n",
        "          img_path = os.path.join(complete_path, image_file_name)\n",
        "          \n",
        "          # basic pre-processing of the images\n",
        "          img = image.load_img(img_path, target_size=dimensions)\n",
        "          x = image.img_to_array(img)\n",
        "          x = preprocess_input(x)\n",
        "          \n",
        "          X.append(x)\n",
        "          class_name_id = class_names_reverse_mappings[class_name]\n",
        "          y.append(class_name_id)\n",
        "  \n",
        "  return X, y    \n",
        "  "
      ],
      "execution_count": 0,
      "outputs": []
    },
    {
      "metadata": {
        "id": "v0pQBq7JxJNz",
        "colab_type": "code",
        "colab": {
          "base_uri": "https://localhost:8080/",
          "height": 173
        },
        "outputId": "b65cfba0-3156-4c84-eaa7-8634786e77a9"
      },
      "cell_type": "code",
      "source": [
        "X_train, y_train = get_required_data_with_labels_for_model(location_of_train_data)\n",
        "print(len(X_train))\n",
        "print(len(y_train))\n",
        "print(X_train[0].shape)\n",
        "print(y_train[0])"
      ],
      "execution_count": 0,
      "outputs": [
        {
          "output_type": "stream",
          "text": [
            "Reading the files from the location drive/My Drive/Extending board games online/chess_pieces_data/Chess ID Public Data/output_train/bb\n",
            "Reading the files from the location drive/My Drive/Extending board games online/chess_pieces_data/Chess ID Public Data/output_train/wb\n",
            "Reading the files from the location drive/My Drive/Extending board games online/chess_pieces_data/Chess ID Public Data/output_train/bk\n",
            "Reading the files from the location drive/My Drive/Extending board games online/chess_pieces_data/Chess ID Public Data/output_train/wk\n",
            "Reading the files from the location drive/My Drive/Extending board games online/chess_pieces_data/Chess ID Public Data/output_train/bn\n",
            "Reading the files from the location drive/My Drive/Extending board games online/chess_pieces_data/Chess ID Public Data/output_train/wn\n",
            "Reading the files from the location drive/My Drive/Extending board games online/chess_pieces_data/Chess ID Public Data/output_train/bp\n",
            "Reading the files from the location drive/My Drive/Extending board games online/chess_pieces_data/Chess ID Public Data/output_train/wp\n"
          ],
          "name": "stdout"
        }
      ]
    },
    {
      "metadata": {
        "id": "xGk0wJqayDc4",
        "colab_type": "code",
        "colab": {}
      },
      "cell_type": "code",
      "source": [
        "X_test, y_test = get_required_data_with_labels_for_model(location_of_test_data)\n",
        "print(len(X_test))\n",
        "print(len(y_test))\n",
        "print(X_test[0].shape)\n",
        "print(y_test[0])"
      ],
      "execution_count": 0,
      "outputs": []
    },
    {
      "metadata": {
        "id": "fYSfIyAjzMWx",
        "colab_type": "code",
        "colab": {}
      },
      "cell_type": "code",
      "source": [
        "## update the base inception v3 model\n",
        "\n",
        "num_output_classes = len(class_names)\n",
        "\n",
        "# create the base pre-trained model\n",
        "inception_v3_model = InceptionV3(weights='imagenet', include_top=False)\n",
        "\n",
        "# add a global spatial average pooling layer\n",
        "x = inception_v3_model.output\n",
        "x = GlobalAveragePooling2D()(x)\n",
        "# let's add a fully-connected layer\n",
        "x = Dense(1024, activation='relu')(x)\n",
        "# and a logistic layer -- let's say we have 200 classes\n",
        "predictions = Dense(num_output_classes, activation='softmax')(x)\n",
        "\n",
        "# this is the model we will train\n",
        "model = Model(inputs=inception_v3_model.input, outputs=predictions)\n",
        "\n",
        "# first: train only the top layers (which were randomly initialized)\n",
        "# i.e. freeze all convolutional InceptionV3 layers\n",
        "for layer in inception_v3_model.layers:\n",
        "    layer.trainable = False\n",
        "\n",
        "# compile the model (should be done *after* setting layers to non-trainable)\n",
        "model.compile(optimizer='rmsprop', loss='sparse_categorical_crossentropy', metrics=['accuracy'])\n",
        "\n",
        "print(model.summary())"
      ],
      "execution_count": 0,
      "outputs": []
    },
    {
      "metadata": {
        "id": "3bjewU2s2SnH",
        "colab_type": "code",
        "colab": {}
      },
      "cell_type": "code",
      "source": [
        "# checkpoint\n",
        "filepath=\"drive/My Drive/Extending board games online/models/chess_pieces_inceptionv3_p1_0912.hdf5\"\n",
        "checkpoint = ModelCheckpoint(filepath, monitor='val_acc', verbose=1, save_best_only=True, mode='max')\n",
        "early_stopping = EarlyStopping(monitor='val_acc', patience=25, min_delta= 0.01)\n",
        "callbacks_list = [checkpoint, early_stopping]"
      ],
      "execution_count": 0,
      "outputs": []
    },
    {
      "metadata": {
        "id": "zYzNRVKP3I7P",
        "colab_type": "code",
        "colab": {}
      },
      "cell_type": "code",
      "source": [
        "epochs = 500\n",
        "batch_size = 500"
      ],
      "execution_count": 0,
      "outputs": []
    },
    {
      "metadata": {
        "id": "mrfa8W7P3B3d",
        "colab_type": "code",
        "colab": {}
      },
      "cell_type": "code",
      "source": [
        "history = model.fit(X_train,\n",
        "          y_train,\n",
        "          epochs=epochs,\n",
        "          validation_data=(X_test, y_test),\n",
        "          verbose=1,\n",
        "          callbacks=callbacks_list,\n",
        "          batch_size=batch_size)"
      ],
      "execution_count": 0,
      "outputs": []
    },
    {
      "metadata": {
        "id": "o98c0gGA3Wkd",
        "colab_type": "code",
        "colab": {}
      },
      "cell_type": "code",
      "source": [
        "# summarize history for accuracy\n",
        "plt.plot(history.history['acc'])\n",
        "plt.plot(history.history['val_acc'])\n",
        "plt.title('model accuracy')\n",
        "plt.ylabel('accuracy')\n",
        "plt.xlabel('epoch')\n",
        "plt.legend(['train', 'test'], loc='upper left')\n",
        "plt.show()"
      ],
      "execution_count": 0,
      "outputs": []
    },
    {
      "metadata": {
        "id": "QX8HjeHx3ddt",
        "colab_type": "code",
        "colab": {}
      },
      "cell_type": "code",
      "source": [
        "## Fine tune some inception layers\n",
        "# we chose to train the top 2 inception blocks, i.e. we will freeze\n",
        "# the first 249 layers and unfreeze the rest:\n",
        "for layer in model.layers[:249]:\n",
        "   layer.trainable = False\n",
        "for layer in model.layers[249:]:\n",
        "   layer.trainable = True\n",
        "\n",
        "# we need to recompile the model for these modifications to take effect\n",
        "# we use SGD with a low learning rate\n",
        "from keras.optimizers import SGD\n",
        "model.compile(optimizer=SGD(lr=0.0001, momentum=0.9), loss='sparse_categorical_crossentropy', metrics=['accuracy'])\n",
        "\n"
      ],
      "execution_count": 0,
      "outputs": []
    },
    {
      "metadata": {
        "id": "rOKA0taT4WAH",
        "colab_type": "code",
        "colab": {}
      },
      "cell_type": "code",
      "source": [
        "# checkpoint\n",
        "filepath=\"drive/My Drive/Extending board games online/models/chess_pieces_inceptionv3_p2_0912.hdf5\"\n",
        "checkpoint = ModelCheckpoint(filepath, monitor='val_acc', verbose=1, save_best_only=True, mode='max')\n",
        "early_stopping = EarlyStopping(monitor='val_acc', patience=25, min_delta= 0.01)\n",
        "callbacks_list = [checkpoint, early_stopping]"
      ],
      "execution_count": 0,
      "outputs": []
    },
    {
      "metadata": {
        "id": "kXGir3oX4aVy",
        "colab_type": "code",
        "colab": {}
      },
      "cell_type": "code",
      "source": [
        "epochs = 200\n",
        "batch_size = 500"
      ],
      "execution_count": 0,
      "outputs": []
    },
    {
      "metadata": {
        "id": "-eivTGHd4i5V",
        "colab_type": "code",
        "colab": {}
      },
      "cell_type": "code",
      "source": [
        "history_2 = model.fit(X_train,\n",
        "          y_train,\n",
        "          epochs=epochs,\n",
        "          validation_data=(X_test, y_test),\n",
        "          verbose=1,\n",
        "          callbacks=callbacks_list,\n",
        "          batch_size=batch_size)"
      ],
      "execution_count": 0,
      "outputs": []
    },
    {
      "metadata": {
        "id": "qIHUJ9yO43-U",
        "colab_type": "code",
        "colab": {}
      },
      "cell_type": "code",
      "source": [
        "# summarize history for accuracy\n",
        "plt.plot(history_2.history['acc'])\n",
        "plt.plot(history_2.history['val_acc'])\n",
        "plt.title('model accuracy')\n",
        "plt.ylabel('accuracy')\n",
        "plt.xlabel('epoch')\n",
        "plt.legend(['train', 'test'], loc='upper left')\n",
        "plt.show()"
      ],
      "execution_count": 0,
      "outputs": []
    },
    {
      "metadata": {
        "id": "AUAmKCek49Ws",
        "colab_type": "code",
        "colab": {}
      },
      "cell_type": "code",
      "source": [
        "## Helper method to print a confusion matrix\n",
        "import itertools\n",
        "\n",
        "def plot_confusion_matrix(cm, classes,\n",
        "                          normalize=False,\n",
        "                          title='Confusion matrix',\n",
        "                          cmap=plt.cm.Blues):\n",
        "    \"\"\"\n",
        "    This function prints and plots the confusion matrix.\n",
        "    Normalization can be applied by setting `normalize=True`.\n",
        "    \"\"\"\n",
        "    if normalize:\n",
        "        cm = cm.astype('float') / cm.sum(axis=1)[:, np.newaxis]\n",
        "        print(\"Normalized confusion matrix\")\n",
        "    else:\n",
        "        print('Confusion matrix, without normalization')\n",
        "\n",
        "    print(cm)\n",
        "\n",
        "    plt.imshow(cm, interpolation='nearest', cmap=cmap)\n",
        "    plt.title(title)\n",
        "    plt.colorbar()\n",
        "    tick_marks = np.arange(len(classes))\n",
        "    plt.xticks(tick_marks, classes, rotation=45)\n",
        "    plt.yticks(tick_marks, classes)\n",
        "\n",
        "    fmt = '.2f' if normalize else 'd'\n",
        "    thresh = cm.max() / 2.\n",
        "    for i, j in itertools.product(range(cm.shape[0]), range(cm.shape[1])):\n",
        "        plt.text(j, i, format(cm[i, j], fmt),\n",
        "                 horizontalalignment=\"center\",\n",
        "                 color=\"white\" if cm[i, j] > thresh else \"black\")\n",
        "\n",
        "    plt.ylabel('True label')\n",
        "    plt.xlabel('Predicted label')\n",
        "    plt.tight_layout()"
      ],
      "execution_count": 0,
      "outputs": []
    },
    {
      "metadata": {
        "id": "rX-e3Cxt5GPW",
        "colab_type": "code",
        "colab": {}
      },
      "cell_type": "code",
      "source": [
        "model.load_weights(\"drive/My Drive/Extending board games online/models/chess_pieces_inceptionv3_p2_0912.hdf5\")\n",
        "\n",
        "# Compile model\n",
        "model.compile(\n",
        "    loss='sparse_categorical_crossentropy',\n",
        "    optimizer=SGD(lr=0.0001, momentum=0.9),\n",
        "    metrics=['accuracy'],\n",
        ")\n",
        "score = model.evaluate(X_test, y_test, verbose=0)\n",
        "\n",
        "print(\"Score: \" + str(score))\n",
        "\n",
        "import matplotlib.pyplot as plt\n",
        "plt.rcParams[\"figure.figsize\"] = (10,10)\n",
        "\n",
        "test_predictions = model.predict(X_test, batch_size=batch_size)\n",
        "y_test_pred = [np.argmax(x) for x in test_predictions]\n",
        "cnf_matrix = confusion_matrix(y_test, y_test_pred)\n",
        "plot_confusion_matrix(cnf_matrix, classes=class_names, normalize=True,title='Normalized confusion matrix')"
      ],
      "execution_count": 0,
      "outputs": []
    }
  ]
}