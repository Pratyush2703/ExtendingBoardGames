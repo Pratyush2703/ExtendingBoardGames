{
 "cells": [
  {
   "cell_type": "code",
   "execution_count": 1,
   "metadata": {
    "colab": {
     "base_uri": "https://localhost:8080/",
     "height": 34
    },
    "colab_type": "code",
    "id": "AOORH4OBo7eT",
    "outputId": "11f65e30-b446-4c3a-e849-79a04285d9d2"
   },
   "outputs": [
    {
     "name": "stderr",
     "output_type": "stream",
     "text": [
      "Using TensorFlow backend.\n"
     ]
    }
   ],
   "source": [
    "# Keras and TF imports\n",
    "from keras.models import Sequential, load_model, Model\n",
    "from keras.layers import Activation, Dropout, Flatten, Dense, Conv2D, MaxPooling2D, BatchNormalization\n",
    "from keras.callbacks import EarlyStopping, ModelCheckpoint, TensorBoard\n",
    "from keras import optimizers\n",
    "from keras import backend as K\n",
    "from keras import utils"
   ]
  },
  {
   "cell_type": "code",
   "execution_count": 2,
   "metadata": {
    "colab": {},
    "colab_type": "code",
    "id": "6oYjHJlHpRk1"
   },
   "outputs": [],
   "source": [
    "# Scikit-learn and Numpy imports\n",
    "from sklearn.model_selection import train_test_split\n",
    "from sklearn.metrics import confusion_matrix\n",
    "import matplotlib.pyplot as plt\n",
    "import numpy as np\n",
    "import os\n",
    "\n",
    "%matplotlib inline"
   ]
  },
  {
   "cell_type": "code",
   "execution_count": 3,
   "metadata": {},
   "outputs": [],
   "source": [
    "from tensorflow import set_random_seed\n",
    "set_random_seed(42)"
   ]
  },
  {
   "cell_type": "markdown",
   "metadata": {},
   "source": [
    "## For lab PC"
   ]
  },
  {
   "cell_type": "code",
   "execution_count": 4,
   "metadata": {
    "colab": {},
    "colab_type": "code",
    "id": "VzI16CRFpmG_"
   },
   "outputs": [],
   "source": [
    "# set the location of the training and test images (change as required)\n",
    "location_of_train_data = \"C:\\\\Users\\\\issuser\\\\Desktop\\\\ExtendingBoardGamesOnline\\\\data\\\\Chess ID Public Data\\\\output_train\"\n",
    "location_of_test_data = \"C:\\\\Users\\\\issuser\\\\Desktop\\\\ExtendingBoardGamesOnline\\\\data\\\\Chess ID Public Data\\\\output_test\"\n",
    "model_folder_name = \"C:\\\\Users\\\\issuser\\\\Desktop\\\\ExtendingBoardGamesOnline\\\\trained_models\\\\31_12\"\n",
    "tensorboard_logs_folder_location = \"C:\\\\Users\\issuser\\\\Desktop\\\\ExtendingBoardGamesOnline\\\\tb_logs\\\\31_12\""
   ]
  },
  {
   "cell_type": "code",
   "execution_count": null,
   "metadata": {
    "colab": {},
    "colab_type": "code",
    "id": "bQvSOos5sFxt"
   },
   "outputs": [],
   "source": [
    "class_names = [\"white_bishop\", \"white_king\", \"white_knight\", \"white_pawn\", \"white_queen\", \"white_rook\", \"black_bishop\", \"black_king\", \"black_knight\", \"black_pawn\", \"black_queen\", \"black_rook\", \"empty\"]\n",
    "class_names_reverse_mappings = {\"white_bishop\": 0, \"white_king\": 1, \"white_knight\":2, \"white_pawn\":3, \"white_queen\":4, \"white_rook\":5, \"black_bishop\": 6, \"black_king\": 7, \"black_knight\": 8, \"black_pawn\": 9, \"black_queen\": 10, \"black_rook\": 11, \"empty\":12}\n",
    "class_names_folder_mappings = {\"white_bishop\": [\"wb\"], \"white_king\": [\"wk\"], \"white_knight\":[\"wn\"], \"white_pawn\":[\"wp\"], \"white_queen\":[\"wq\"], \"white_rook\":[\"wr\"], \"black_bishop\": [\"bb\"], \"black_king\": [\"bk\"], \"black_knight\":[\"bn\"], \"black_pawn\":[\"bp\"], \"black_queen\":[\"bq\"], \"black_rook\":[\"br\"], \"empty\":[\"empty\"]}"
   ]
  },
  {
   "cell_type": "code",
   "execution_count": null,
   "metadata": {
    "colab": {},
    "colab_type": "code",
    "id": "Y60PmbgeqnfW"
   },
   "outputs": [],
   "source": [
    "import cv2\n",
    "\n",
    "def get_required_data_with_labels_for_model(base_location, num_samples = None, dimensions=(300, 300)):\n",
    "  X, y = [], []\n",
    "  for class_name in class_names_folder_mappings:\n",
    "    for folder_name in class_names_folder_mappings[class_name]:\n",
    "      complete_path = os.path.join(base_location, folder_name)\n",
    "      print(\"Reading the files from the location {0}\".format(complete_path))\n",
    "      current_samples = 0\n",
    "      for image_file_name in os.listdir(complete_path):\n",
    "        \n",
    "        # check if the current file is an image file with jpg extension\n",
    "        if image_file_name.endswith(\".jpg\"):\n",
    "          current_samples += 1\n",
    "          img_path = os.path.join(complete_path, image_file_name)\n",
    "            \n",
    "          img = cv2.imread(img_path)  \n",
    "          resized_img = cv2.resize(img,dimensions, interpolation = cv2.INTER_AREA) \n",
    "          \n",
    "          x = resized_img\n",
    "          X.append(x)\n",
    "          class_name_id = class_names_reverse_mappings[class_name]\n",
    "          y.append(class_name_id)\n",
    "        \n",
    "          if ((num_samples is not None) and (current_samples == num_samples)):\n",
    "            break\n",
    "  \n",
    "  if len(X) > 0:\n",
    "      X = np.array(X)\n",
    "      X = X.astype('float32')\n",
    "      X /= 255\n",
    "  \n",
    "  return X, y    \n",
    "  "
   ]
  },
  {
   "cell_type": "code",
   "execution_count": null,
   "metadata": {
    "colab": {
     "base_uri": "https://localhost:8080/",
     "height": 338
    },
    "colab_type": "code",
    "id": "v0pQBq7JxJNz",
    "outputId": "2e74d582-ef60-4b60-b3cf-d7384cb5cd56"
   },
   "outputs": [
    {
     "name": "stdout",
     "output_type": "stream",
     "text": [
      "Reading the files from the location C:\\Users\\issuser\\Desktop\\ExtendingBoardGamesOnline\\data\\Chess ID Public Data\\output_train\\wb\n",
      "Reading the files from the location C:\\Users\\issuser\\Desktop\\ExtendingBoardGamesOnline\\data\\Chess ID Public Data\\output_train\\wk\n",
      "Reading the files from the location C:\\Users\\issuser\\Desktop\\ExtendingBoardGamesOnline\\data\\Chess ID Public Data\\output_train\\wn\n",
      "Reading the files from the location C:\\Users\\issuser\\Desktop\\ExtendingBoardGamesOnline\\data\\Chess ID Public Data\\output_train\\wp\n",
      "Reading the files from the location C:\\Users\\issuser\\Desktop\\ExtendingBoardGamesOnline\\data\\Chess ID Public Data\\output_train\\wq\n",
      "Reading the files from the location C:\\Users\\issuser\\Desktop\\ExtendingBoardGamesOnline\\data\\Chess ID Public Data\\output_train\\wr\n",
      "Reading the files from the location C:\\Users\\issuser\\Desktop\\ExtendingBoardGamesOnline\\data\\Chess ID Public Data\\output_train\\bb\n",
      "Reading the files from the location C:\\Users\\issuser\\Desktop\\ExtendingBoardGamesOnline\\data\\Chess ID Public Data\\output_train\\bk\n",
      "Reading the files from the location C:\\Users\\issuser\\Desktop\\ExtendingBoardGamesOnline\\data\\Chess ID Public Data\\output_train\\bn\n",
      "Reading the files from the location C:\\Users\\issuser\\Desktop\\ExtendingBoardGamesOnline\\data\\Chess ID Public Data\\output_train\\bp\n",
      "Reading the files from the location C:\\Users\\issuser\\Desktop\\ExtendingBoardGamesOnline\\data\\Chess ID Public Data\\output_train\\bq\n",
      "Reading the files from the location C:\\Users\\issuser\\Desktop\\ExtendingBoardGamesOnline\\data\\Chess ID Public Data\\output_train\\br\n",
      "Reading the files from the location C:\\Users\\issuser\\Desktop\\ExtendingBoardGamesOnline\\data\\Chess ID Public Data\\output_train\\empty\n",
      "10360\n",
      "10360\n",
      "(10360, 300, 300, 3)\n",
      "(300, 300, 3)\n",
      "0\n"
     ]
    }
   ],
   "source": [
    "X_train, y_train = get_required_data_with_labels_for_model(location_of_train_data)\n",
    "print(len(X_train))\n",
    "print(len(y_train))\n",
    "print(X_train.shape)\n",
    "print(X_train[0].shape)\n",
    "print(y_train[0])"
   ]
  },
  {
   "cell_type": "code",
   "execution_count": null,
   "metadata": {
    "colab": {
     "base_uri": "https://localhost:8080/",
     "height": 318
    },
    "colab_type": "code",
    "id": "xGk0wJqayDc4",
    "outputId": "851453f3-ca0a-4601-dc8d-4921740540d9"
   },
   "outputs": [
    {
     "name": "stdout",
     "output_type": "stream",
     "text": [
      "Reading the files from the location C:\\Users\\issuser\\Desktop\\ExtendingBoardGamesOnline\\data\\Chess ID Public Data\\output_test\\wb\n",
      "Reading the files from the location C:\\Users\\issuser\\Desktop\\ExtendingBoardGamesOnline\\data\\Chess ID Public Data\\output_test\\wk\n",
      "Reading the files from the location C:\\Users\\issuser\\Desktop\\ExtendingBoardGamesOnline\\data\\Chess ID Public Data\\output_test\\wn\n",
      "Reading the files from the location C:\\Users\\issuser\\Desktop\\ExtendingBoardGamesOnline\\data\\Chess ID Public Data\\output_test\\wp\n",
      "Reading the files from the location C:\\Users\\issuser\\Desktop\\ExtendingBoardGamesOnline\\data\\Chess ID Public Data\\output_test\\wq\n",
      "Reading the files from the location C:\\Users\\issuser\\Desktop\\ExtendingBoardGamesOnline\\data\\Chess ID Public Data\\output_test\\wr\n",
      "Reading the files from the location C:\\Users\\issuser\\Desktop\\ExtendingBoardGamesOnline\\data\\Chess ID Public Data\\output_test\\bb\n",
      "Reading the files from the location C:\\Users\\issuser\\Desktop\\ExtendingBoardGamesOnline\\data\\Chess ID Public Data\\output_test\\bk\n",
      "Reading the files from the location C:\\Users\\issuser\\Desktop\\ExtendingBoardGamesOnline\\data\\Chess ID Public Data\\output_test\\bn\n",
      "Reading the files from the location C:\\Users\\issuser\\Desktop\\ExtendingBoardGamesOnline\\data\\Chess ID Public Data\\output_test\\bp\n",
      "Reading the files from the location C:\\Users\\issuser\\Desktop\\ExtendingBoardGamesOnline\\data\\Chess ID Public Data\\output_test\\bq\n",
      "Reading the files from the location C:\\Users\\issuser\\Desktop\\ExtendingBoardGamesOnline\\data\\Chess ID Public Data\\output_test\\br\n",
      "Reading the files from the location C:\\Users\\issuser\\Desktop\\ExtendingBoardGamesOnline\\data\\Chess ID Public Data\\output_test\\empty\n",
      "185\n",
      "185\n",
      "(300, 300, 3)\n",
      "0\n"
     ]
    }
   ],
   "source": [
    "X_test, y_test = get_required_data_with_labels_for_model(location_of_test_data)\n",
    "print(len(X_test))\n",
    "print(len(y_test))\n",
    "print(X_test[0].shape)\n",
    "print(y_test[0])"
   ]
  },
  {
   "cell_type": "markdown",
   "metadata": {},
   "source": [
    "### Configurations to be updated as required"
   ]
  },
  {
   "cell_type": "code",
   "execution_count": null,
   "metadata": {},
   "outputs": [],
   "source": [
    "batch_size = 64\n",
    "# number of convolutional filters to use\n",
    "nb_filters = 32\n",
    "# size of pooling area for max pooling\n",
    "nb_pool = 2\n",
    "# number of training epochs\n",
    "nb_epoch = 150"
   ]
  },
  {
   "cell_type": "code",
   "execution_count": null,
   "metadata": {
    "colab": {
     "base_uri": "https://localhost:8080/",
     "height": 12018
    },
    "colab_type": "code",
    "id": "fYSfIyAjzMWx",
    "outputId": "aa57bafc-49d0-45ba-c6d0-3b2cb6bfb1b6"
   },
   "outputs": [],
   "source": [
    "# convolution kernel size\n",
    "nb_conv = 3\n",
    "\n",
    "# shape of each image\n",
    "shape_ord = (300, 300, 3)\n",
    "\n",
    "# number of output classes\n",
    "nb_classes = 13\n",
    "\n",
    "def train_custom_cnn_model(X_train, Y_train, X_test, Y_test):\n",
    "    \"\"\"\"\"\"\n",
    "    model = Sequential()\n",
    "    model.add(Conv2D(nb_filters, (nb_conv, nb_conv),\n",
    "                     padding='valid',\n",
    "                     input_shape=shape_ord))\n",
    "    model.add(BatchNormalization())\n",
    "    model.add(Activation('relu'))\n",
    "    model.add(MaxPooling2D(pool_size=(nb_pool, nb_pool)))\n",
    "    \n",
    "    model.add(Conv2D(nb_filters * 2, (nb_conv, nb_conv)))\n",
    "    model.add(BatchNormalization())\n",
    "    model.add(Activation('relu'))\n",
    "    model.add(MaxPooling2D(pool_size=(nb_pool, nb_pool)))\n",
    "    \n",
    "    model.add(Conv2D(nb_filters * 4, (nb_conv, nb_conv)))\n",
    "    model.add(BatchNormalization())\n",
    "    model.add(Activation('relu'))\n",
    "    model.add(MaxPooling2D(pool_size=(nb_pool, nb_pool)))\n",
    "    model.add(Dropout(0.25))\n",
    "\n",
    "    model.add(Flatten())\n",
    "    model.add(Dense(256))\n",
    "    model.add(BatchNormalization())\n",
    "    model.add(Activation('relu'))\n",
    "    model.add(Dropout(0.5))\n",
    "    \n",
    "    model.add(Dense(nb_classes))\n",
    "    model.add(Activation('softmax'))\n",
    "    model.summary()\n",
    "\n",
    "    # checkpoint\n",
    "    if not os.path.exists(model_folder_name):\n",
    "        os.makedirs(model_folder_name)\n",
    "    \n",
    "    filepath = os.path.join(model_folder_name, \"custom_cnn.hdf5\")\n",
    "    checkpoint = ModelCheckpoint(filepath, monitor='val_acc', verbose=1,\n",
    "                                 save_best_only=True,\n",
    "                                 mode='max')\n",
    "\n",
    "    earlystop = EarlyStopping(monitor='val_acc', min_delta=0.001, patience=10,\n",
    "                              verbose=1, mode='max')\n",
    "    \n",
    "    tensorboard = TensorBoard(log_dir=tensorboard_logs_folder_location, histogram_freq=0, write_graph=True, write_images=True)\n",
    "    \n",
    "    callbacks_list = [checkpoint, earlystop, tensorboard]\n",
    "    \n",
    "    adam = optimizers.Adam(lr=0.0001, beta_1=0.9, beta_2=0.999, epsilon=None, decay=0.0, amsgrad=False)\n",
    "    model.compile(loss='sparse_categorical_crossentropy',\n",
    "                  optimizer=adam,\n",
    "                  metrics=['accuracy'])\n",
    "\n",
    "    hist = model.fit(X_train, Y_train, shuffle=True, batch_size=batch_size,\n",
    "                     epochs=nb_epoch, verbose=1,\n",
    "                     validation_data=(X_test, Y_test), callbacks=callbacks_list)\n",
    "\n",
    "    # Evaluating the model on the test data\n",
    "    score, accuracy = model.evaluate(X_test, Y_test, verbose=0)\n",
    "    print('Test score:', score)\n",
    "    print('Test accuracy:', accuracy)\n",
    "    return hist, model"
   ]
  },
  {
   "cell_type": "code",
   "execution_count": null,
   "metadata": {},
   "outputs": [],
   "source": [
    "hist, model = train_custom_cnn_model(X_train, y_train, X_test, y_test)\n",
    "\n",
    "# summarize history for accuracy\n",
    "plt.plot(hist.history['acc'])\n",
    "plt.plot(hist.history['val_acc'])\n",
    "plt.title('model accuracy')\n",
    "plt.ylabel('accuracy')\n",
    "plt.xlabel('epoch')\n",
    "plt.legend(['train', 'test'], loc='upper left')\n",
    "plt.show()"
   ]
  },
  {
   "cell_type": "code",
   "execution_count": null,
   "metadata": {
    "colab": {},
    "colab_type": "code",
    "id": "AUAmKCek49Ws"
   },
   "outputs": [],
   "source": [
    "## Helper method to print a confusion matrix\n",
    "import itertools\n",
    "\n",
    "def plot_confusion_matrix(cm, classes,\n",
    "                          normalize=False,\n",
    "                          title='Confusion matrix',\n",
    "                          cmap=plt.cm.Blues):\n",
    "    \"\"\"\n",
    "    This function prints and plots the confusion matrix.\n",
    "    Normalization can be applied by setting `normalize=True`.\n",
    "    \"\"\"\n",
    "    if normalize:\n",
    "        cm = cm.astype('float') / cm.sum(axis=1)[:, np.newaxis]\n",
    "        print(\"Normalized confusion matrix\")\n",
    "    else:\n",
    "        print('Confusion matrix, without normalization')\n",
    "\n",
    "    print(cm)\n",
    "\n",
    "    plt.imshow(cm, interpolation='nearest', cmap=cmap)\n",
    "    plt.title(title)\n",
    "    plt.colorbar()\n",
    "    tick_marks = np.arange(len(classes))\n",
    "    plt.xticks(tick_marks, classes, rotation=45)\n",
    "    plt.yticks(tick_marks, classes)\n",
    "\n",
    "    fmt = '.2f' if normalize else 'd'\n",
    "    thresh = cm.max() / 2.\n",
    "    for i, j in itertools.product(range(cm.shape[0]), range(cm.shape[1])):\n",
    "        plt.text(j, i, format(cm[i, j], fmt),\n",
    "                 horizontalalignment=\"center\",\n",
    "                 color=\"white\" if cm[i, j] > thresh else \"black\")\n",
    "\n",
    "    plt.ylabel('True label')\n",
    "    plt.xlabel('Predicted label')\n",
    "    plt.tight_layout()"
   ]
  },
  {
   "cell_type": "code",
   "execution_count": null,
   "metadata": {
    "colab": {
     "base_uri": "https://localhost:8080/",
     "height": 1175
    },
    "colab_type": "code",
    "id": "rX-e3Cxt5GPW",
    "outputId": "bb8f7f2f-ab05-4d6f-c8d1-29d38e457d31"
   },
   "outputs": [],
   "source": [
    "import matplotlib.pyplot as plt\n",
    "plt.rcParams[\"figure.figsize\"] = (10,10)\n",
    "\n",
    "test_predictions = model.predict(X_test, batch_size=batch_size)\n",
    "y_test_pred = [np.argmax(x) for x in test_predictions]\n",
    "cnf_matrix = confusion_matrix(y_test, y_test_pred)\n",
    "plot_confusion_matrix(cnf_matrix, classes=class_names, normalize=True,title='Normalized confusion matrix')"
   ]
  },
  {
   "cell_type": "code",
   "execution_count": null,
   "metadata": {},
   "outputs": [],
   "source": []
  }
 ],
 "metadata": {
  "accelerator": "GPU",
  "colab": {
   "collapsed_sections": [],
   "name": "Classify chess pieces 13 categories.ipynb",
   "provenance": [],
   "version": "0.3.2"
  },
  "kernelspec": {
   "display_name": "chess",
   "language": "python",
   "name": "chess"
  },
  "language_info": {
   "codemirror_mode": {
    "name": "ipython",
    "version": 3
   },
   "file_extension": ".py",
   "mimetype": "text/x-python",
   "name": "python",
   "nbconvert_exporter": "python",
   "pygments_lexer": "ipython3",
   "version": "3.6.6"
  }
 },
 "nbformat": 4,
 "nbformat_minor": 1
}
